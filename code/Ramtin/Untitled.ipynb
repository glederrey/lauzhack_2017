{
 "cells": [
  {
   "cell_type": "code",
   "execution_count": 4,
   "metadata": {
    "collapsed": true
   },
   "outputs": [],
   "source": [
    "from node2vec_utils import read_node_vecs\n"
   ]
  },
  {
   "cell_type": "code",
   "execution_count": 15,
   "metadata": {},
   "outputs": [
    {
     "data": {
      "text/plain": [
       "array([[-0.051315, -0.088978,  0.107253, ..., -0.099614, -0.035638,\n",
       "         0.059527],\n",
       "       [-0.038954, -0.099051,  0.050708, ..., -0.162175, -0.00821 ,\n",
       "         0.029382],\n",
       "       [-0.059842, -0.146129,  0.029653, ..., -0.072142, -0.120527,\n",
       "         0.010948],\n",
       "       ..., \n",
       "       [-0.054142, -0.086907,  0.111417, ..., -0.242317,  0.093516,\n",
       "         0.036093],\n",
       "       [-0.117835, -0.161086, -0.124366, ...,  0.041982, -0.082656,\n",
       "        -0.144005],\n",
       "       [-0.077222, -0.011202, -0.02045 , ..., -0.137392, -0.03516 ,\n",
       "        -0.101496]])"
      ]
     },
     "execution_count": 15,
     "metadata": {},
     "output_type": "execute_result"
    }
   ],
   "source": [
    "read_node_vecs('vecs.emd')"
   ]
  },
  {
   "cell_type": "code",
   "execution_count": null,
   "metadata": {
    "collapsed": true
   },
   "outputs": [],
   "source": []
  }
 ],
 "metadata": {
  "kernelspec": {
   "display_name": "Python [conda root]",
   "language": "python",
   "name": "conda-root-py"
  },
  "language_info": {
   "codemirror_mode": {
    "name": "ipython",
    "version": 3
   },
   "file_extension": ".py",
   "mimetype": "text/x-python",
   "name": "python",
   "nbconvert_exporter": "python",
   "pygments_lexer": "ipython3",
   "version": "3.6.1"
  }
 },
 "nbformat": 4,
 "nbformat_minor": 2
}
