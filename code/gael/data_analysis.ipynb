{
 "cells": [
  {
   "cell_type": "code",
   "execution_count": 2,
   "metadata": {
    "collapsed": true
   },
   "outputs": [],
   "source": [
    "import os\n",
    "os.chdir('../..')"
   ]
  },
  {
   "cell_type": "code",
   "execution_count": 3,
   "metadata": {
    "collapsed": true
   },
   "outputs": [],
   "source": [
    "import pandas as pd\n",
    "import numpy as np\n",
    "\n",
    "from datetime import datetime, date\n",
    "import matplotlib.pyplot as plt\n",
    "\n",
    "import json\n",
    "\n",
    "data = 'data/'"
   ]
  },
  {
   "cell_type": "code",
   "execution_count": 4,
   "metadata": {
    "collapsed": true
   },
   "outputs": [],
   "source": [
    "atms = pd.read_csv(data + 'atms.small.csv')\n",
    "clients = pd.read_csv(data + 'clients.small.csv')\n",
    "companies = pd.read_csv(data + 'companies.small.csv')\n",
    "transactions = pd.read_csv(data + 'transactions.small.csv')"
   ]
  },
  {
   "cell_type": "code",
   "execution_count": 281,
   "metadata": {
    "collapsed": true
   },
   "outputs": [],
   "source": [
    "months = {}\n",
    "days = {}\n",
    "counts = 0\n",
    "dates = []\n",
    "for i in transactions.index:\n",
    "    date = transactions.loc[i]['date']\n",
    "    month = int(date.split('/')[1])\n",
    "    day = int(date.split('/')[0])\n",
    "    \n",
    "    if month not in months.keys():\n",
    "        months[month] = 0\n",
    "    \n",
    "    months[month] += 1\n",
    "    if day not in days.keys():\n",
    "        days[day] = 0\n",
    "    \n",
    "    days[day] += 1\n",
    "    \n",
    "    if day > 12 and month > 12:\n",
    "        counts += 1"
   ]
  },
  {
   "cell_type": "code",
   "execution_count": 282,
   "metadata": {},
   "outputs": [
    {
     "data": {
      "text/plain": [
       "0.11905019472090005"
      ]
     },
     "execution_count": 282,
     "metadata": {},
     "output_type": "execute_result"
    }
   ],
   "source": [
    "counts/len(transactions)"
   ]
  },
  {
   "cell_type": "code",
   "execution_count": 54,
   "metadata": {
    "collapsed": true
   },
   "outputs": [
    {
     "data": {
      "text/plain": [
       "{1: 618,\n",
       " 2: 622,\n",
       " 3: 663,\n",
       " 4: 527,\n",
       " 5: 518,\n",
       " 6: 661,\n",
       " 7: 564,\n",
       " 8: 570,\n",
       " 9: 627,\n",
       " 10: 450,\n",
       " 11: 505,\n",
       " 12: 507,\n",
       " 13: 759,\n",
       " 14: 552,\n",
       " 15: 575,\n",
       " 16: 612,\n",
       " 17: 843,\n",
       " 18: 675,\n",
       " 19: 579,\n",
       " 20: 922,\n",
       " 21: 612,\n",
       " 22: 709,\n",
       " 23: 752,\n",
       " 24: 556,\n",
       " 25: 503,\n",
       " 26: 474,\n",
       " 27: 646,\n",
       " 28: 515,\n",
       " 29: 558,\n",
       " 30: 579,\n",
       " 31: 235}"
      ]
     },
     "execution_count": 54,
     "metadata": {},
     "output_type": "execute_result"
    }
   ],
   "source": [
    "months"
   ]
  },
  {
   "cell_type": "code",
   "execution_count": 57,
   "metadata": {},
   "outputs": [
    {
     "data": {
      "text/plain": [
       "{1: 1246,\n",
       " 2: 1301,\n",
       " 3: 1188,\n",
       " 4: 1265,\n",
       " 5: 1283,\n",
       " 6: 1368,\n",
       " 7: 1241,\n",
       " 8: 1317,\n",
       " 9: 1307,\n",
       " 10: 1270,\n",
       " 11: 1284,\n",
       " 12: 1542,\n",
       " 13: 49,\n",
       " 14: 52,\n",
       " 15: 43,\n",
       " 16: 49,\n",
       " 17: 46,\n",
       " 18: 40,\n",
       " 19: 45,\n",
       " 20: 45,\n",
       " 21: 37,\n",
       " 22: 44,\n",
       " 23: 41,\n",
       " 24: 233,\n",
       " 25: 524,\n",
       " 26: 573,\n",
       " 27: 1055}"
      ]
     },
     "execution_count": 57,
     "metadata": {},
     "output_type": "execute_result"
    }
   ],
   "source": [
    "days"
   ]
  },
  {
   "cell_type": "markdown",
   "metadata": {},
   "source": [
    "## Extract time and flow patterns"
   ]
  },
  {
   "cell_type": "code",
   "execution_count": 10,
   "metadata": {
    "collapsed": true
   },
   "outputs": [],
   "source": [
    "threshold_minutes = 15\n",
    "threshold_amount = 0.1"
   ]
  },
  {
   "cell_type": "code",
   "execution_count": 11,
   "metadata": {},
   "outputs": [
    {
     "name": "stdout",
     "output_type": "stream",
     "text": [
      "Check for source\n",
      "Check for target\n"
     ]
    }
   ],
   "source": [
    "groups = {'source': {'time': [], 'flow': []},\n",
    "          'target': {'time': [], 'flow': []}}\n",
    "\n",
    "ids = {'source': transactions['source'].unique(), 'target': transactions['target'].unique()}\n",
    "\n",
    "for key in ids.keys():\n",
    "    print('Check for {}'.format(key))\n",
    "    for id_ in ids[key]:\n",
    "        df = transactions[transactions[key] == id_]\n",
    "        df.index = range(len(df))\n",
    "\n",
    "        times = np.zeros((len(df), len(df)), dtype=np.bool)\n",
    "        amounts = np.zeros((len(df), len(df)), dtype=np.bool)\n",
    "\n",
    "\n",
    "        for j in range(len(df)):\n",
    "            for k in range(j, len(df)):\n",
    "                # Time diff\n",
    "                tj = datetime.strptime(df.loc[j]['time'], '%H:%M:%S').time()\n",
    "                tk = datetime.strptime(df.loc[k]['time'], '%H:%M:%S').time()\n",
    "\n",
    "                diff = np.abs(((datetime.combine(date.today(), tj) - datetime.combine(date.today(), tk)).total_seconds()))\n",
    "\n",
    "                if diff < threshold_minutes*60:\n",
    "                    times[j][k] = True\n",
    "                    times[k][j] = True\n",
    "                else:\n",
    "                    times[j][k] = False\n",
    "                    times[k][j] = False\n",
    "\n",
    "                # Amount diff\n",
    "\n",
    "                amj = df.loc[j]['amount']\n",
    "                amk = df.loc[k]['amount']\n",
    "\n",
    "                diff = np.abs(amj-amk)\n",
    "                avg = np.mean([amj, amk])\n",
    "\n",
    "                if diff < threshold_amount*avg:\n",
    "                    amounts[j][k] = True\n",
    "                    amounts[k][j] = True\n",
    "                else:\n",
    "                    amounts[j][k] = False\n",
    "                    amounts[k][j] = False\n",
    "\n",
    "        mat = amounts*times\n",
    "        \n",
    "        j=0\n",
    "        while j <= len(df)-1:\n",
    "            arr = [i for i, x in enumerate(mat[j, :]) if x]\n",
    "            j = arr[-1]+1\n",
    "            if len(arr) > 2:\n",
    "                linked = [df.loc[k]['id'] for k in arr]\n",
    "                if len(df[df['id'].isin(linked)]['date'].unique()) == 1:\n",
    "                    groups[key]['flow'].append(linked)\n",
    "                else:\n",
    "                    groups[key]['time'].append(linked) "
   ]
  },
  {
   "cell_type": "code",
   "execution_count": 12,
   "metadata": {},
   "outputs": [
    {
     "name": "stdout",
     "output_type": "stream",
     "text": [
      "source:\n",
      "  time: 9\n",
      "  flow: 100\n",
      "target:\n",
      "  time: 16\n",
      "  flow: 158\n"
     ]
    }
   ],
   "source": [
    "for key in groups.keys():\n",
    "    print('{}:'.format(key))\n",
    "    for type_ in groups[key].keys():\n",
    "        print('  {}: {}'.format(type_, len(groups[key][type_])))"
   ]
  },
  {
   "cell_type": "markdown",
   "metadata": {},
   "source": [
    "# Check for similar transactions"
   ]
  },
  {
   "cell_type": "code",
   "execution_count": 13,
   "metadata": {
    "collapsed": true
   },
   "outputs": [],
   "source": [
    "for key in groups.keys():\n",
    "    for type_ in groups[key].keys():\n",
    "        \n",
    "        ids = []\n",
    "        dup = []\n",
    "        for i, g in enumerate(groups[key][type_]):\n",
    "            df = transactions[transactions['id'].isin(g)]\n",
    "            id_ = df[key].iloc[0]\n",
    "\n",
    "            if id_ in ids:\n",
    "                dup.append([ids.index(id_), i])\n",
    "            ids.append(id_)  \n",
    "            \n",
    "        merge = []\n",
    "        for pair in dup:\n",
    "            amount1 = np.mean(transactions[transactions['id'].isin(groups[key][type_][pair[0]])]['amount'])\n",
    "            amount2 = np.mean(transactions[transactions['id'].isin(groups[key][type_][pair[1]])]['amount'])\n",
    "\n",
    "            delta = np.abs(amount1-amount2)\n",
    "\n",
    "            if delta < threshold_amount*np.mean([amount1, amount2]):\n",
    "                merge.append(pair)\n",
    "                \n",
    "        to_del = []\n",
    "        for pair in merge:\n",
    "            groups[key][type_][pair[0]] = list(np.append(groups[key][type_][pair[0]], groups[key][type_][pair[1]]))\n",
    "\n",
    "            to_del.append(pair[1])\n",
    "            \n",
    "        for index in sorted(to_del, reverse=True):\n",
    "            del groups[key][type_][index]"
   ]
  },
  {
   "cell_type": "code",
   "execution_count": 14,
   "metadata": {},
   "outputs": [
    {
     "name": "stdout",
     "output_type": "stream",
     "text": [
      "source:\n",
      "  time: 9\n",
      "  flow: 79\n",
      "target:\n",
      "  time: 14\n",
      "  flow: 131\n"
     ]
    }
   ],
   "source": [
    "for key in groups.keys():\n",
    "    print('{}:'.format(key))\n",
    "    for type_ in groups[key].keys():\n",
    "        print('  {}: {}'.format(type_, len(groups[key][type_])))"
   ]
  },
  {
   "cell_type": "code",
   "execution_count": 15,
   "metadata": {
    "collapsed": true
   },
   "outputs": [],
   "source": [
    "with open(data + 'groups.json', 'w') as outfile:\n",
    "    json.dump(groups, outfile)"
   ]
  },
  {
   "cell_type": "markdown",
   "metadata": {},
   "source": [
    "# Extract JSON for d3js"
   ]
  },
  {
   "cell_type": "code",
   "execution_count": 5,
   "metadata": {},
   "outputs": [],
   "source": [
    "with open(data + 'groups.json', 'r') as outfile:\n",
    "    groups = json.load(outfile)\n",
    "    \n",
    "source_ids = []\n",
    "for g in groups['source']['time']:\n",
    "    susp_node = transactions[transactions['id'].isin(g)]['source'].iloc[0]\n",
    "    source_ids.append(susp_node)\n",
    "    \n",
    "target_ids = []\n",
    "for g in groups['target']['time']:\n",
    "    susp_node = transactions[transactions['id'].isin(g)]['source'].iloc[0]\n",
    "    target_ids.append(susp_node)"
   ]
  },
  {
   "cell_type": "code",
   "execution_count": 6,
   "metadata": {},
   "outputs": [
    {
     "data": {
      "text/html": [
       "<div>\n",
       "<style>\n",
       "    .dataframe thead tr:only-child th {\n",
       "        text-align: right;\n",
       "    }\n",
       "\n",
       "    .dataframe thead th {\n",
       "        text-align: left;\n",
       "    }\n",
       "\n",
       "    .dataframe tbody tr th {\n",
       "        vertical-align: top;\n",
       "    }\n",
       "</style>\n",
       "<table border=\"1\" class=\"dataframe\">\n",
       "  <thead>\n",
       "    <tr style=\"text-align: right;\">\n",
       "      <th></th>\n",
       "      <th>id</th>\n",
       "      <th>source</th>\n",
       "      <th>target</th>\n",
       "      <th>date</th>\n",
       "      <th>time</th>\n",
       "      <th>amount</th>\n",
       "      <th>currency</th>\n",
       "    </tr>\n",
       "  </thead>\n",
       "  <tbody>\n",
       "    <tr>\n",
       "      <th>1</th>\n",
       "      <td>59328a0d-92bb-43a5-8925-5db6a693dde9</td>\n",
       "      <td>c81d20dd-8b65-43d1-bb07-6988fffa299f</td>\n",
       "      <td>d84e8a14-d531-497c-87cb-ee985099e9f9</td>\n",
       "      <td>12/26/2016</td>\n",
       "      <td>03:57:40</td>\n",
       "      <td>940.451548</td>\n",
       "      <td>IRR</td>\n",
       "    </tr>\n",
       "    <tr>\n",
       "      <th>1341</th>\n",
       "      <td>f5a69e48-09c2-49a7-a911-4529bada023e</td>\n",
       "      <td>c81d20dd-8b65-43d1-bb07-6988fffa299f</td>\n",
       "      <td>1f82df7d-5d1c-457f-9c24-b0b56da86bc0</td>\n",
       "      <td>12/26/2016</td>\n",
       "      <td>03:57:37</td>\n",
       "      <td>940.451548</td>\n",
       "      <td>None</td>\n",
       "    </tr>\n",
       "    <tr>\n",
       "      <th>1585</th>\n",
       "      <td>46b7278c-ccc0-464c-9e2c-cca89e6b82dc</td>\n",
       "      <td>c81d20dd-8b65-43d1-bb07-6988fffa299f</td>\n",
       "      <td>6e91725e-699f-4957-9d44-a17d733ba070</td>\n",
       "      <td>12/26/2016</td>\n",
       "      <td>03:57:43</td>\n",
       "      <td>940.451548</td>\n",
       "      <td>None</td>\n",
       "    </tr>\n",
       "    <tr>\n",
       "      <th>2426</th>\n",
       "      <td>d28fa994-4ca5-4305-a34d-0f4c2dda7b36</td>\n",
       "      <td>c81d20dd-8b65-43d1-bb07-6988fffa299f</td>\n",
       "      <td>2132a902-7930-405a-aca0-da0160c06b4e</td>\n",
       "      <td>12/26/2016</td>\n",
       "      <td>11:57:59</td>\n",
       "      <td>940.451548</td>\n",
       "      <td>None</td>\n",
       "    </tr>\n",
       "    <tr>\n",
       "      <th>2451</th>\n",
       "      <td>2da4f0fc-2f0d-4b5a-a8e6-86cc74727769</td>\n",
       "      <td>c81d20dd-8b65-43d1-bb07-6988fffa299f</td>\n",
       "      <td>ec4cfb9a-641d-4af3-a18f-3c26bed31ad8</td>\n",
       "      <td>12/26/2016</td>\n",
       "      <td>11:57:02</td>\n",
       "      <td>940.451548</td>\n",
       "      <td>None</td>\n",
       "    </tr>\n",
       "    <tr>\n",
       "      <th>2630</th>\n",
       "      <td>72869df8-4a1b-42d6-b30d-73dcfdb215c7</td>\n",
       "      <td>c81d20dd-8b65-43d1-bb07-6988fffa299f</td>\n",
       "      <td>2b6d52d9-7a20-483c-950b-176f2d79c7be</td>\n",
       "      <td>12/26/2016</td>\n",
       "      <td>11:57:56</td>\n",
       "      <td>940.451548</td>\n",
       "      <td>None</td>\n",
       "    </tr>\n",
       "  </tbody>\n",
       "</table>\n",
       "</div>"
      ],
      "text/plain": [
       "                                        id  \\\n",
       "1     59328a0d-92bb-43a5-8925-5db6a693dde9   \n",
       "1341  f5a69e48-09c2-49a7-a911-4529bada023e   \n",
       "1585  46b7278c-ccc0-464c-9e2c-cca89e6b82dc   \n",
       "2426  d28fa994-4ca5-4305-a34d-0f4c2dda7b36   \n",
       "2451  2da4f0fc-2f0d-4b5a-a8e6-86cc74727769   \n",
       "2630  72869df8-4a1b-42d6-b30d-73dcfdb215c7   \n",
       "\n",
       "                                    source  \\\n",
       "1     c81d20dd-8b65-43d1-bb07-6988fffa299f   \n",
       "1341  c81d20dd-8b65-43d1-bb07-6988fffa299f   \n",
       "1585  c81d20dd-8b65-43d1-bb07-6988fffa299f   \n",
       "2426  c81d20dd-8b65-43d1-bb07-6988fffa299f   \n",
       "2451  c81d20dd-8b65-43d1-bb07-6988fffa299f   \n",
       "2630  c81d20dd-8b65-43d1-bb07-6988fffa299f   \n",
       "\n",
       "                                    target        date      time      amount  \\\n",
       "1     d84e8a14-d531-497c-87cb-ee985099e9f9  12/26/2016  03:57:40  940.451548   \n",
       "1341  1f82df7d-5d1c-457f-9c24-b0b56da86bc0  12/26/2016  03:57:37  940.451548   \n",
       "1585  6e91725e-699f-4957-9d44-a17d733ba070  12/26/2016  03:57:43  940.451548   \n",
       "2426  2132a902-7930-405a-aca0-da0160c06b4e  12/26/2016  11:57:59  940.451548   \n",
       "2451  ec4cfb9a-641d-4af3-a18f-3c26bed31ad8  12/26/2016  11:57:02  940.451548   \n",
       "2630  2b6d52d9-7a20-483c-950b-176f2d79c7be  12/26/2016  11:57:56  940.451548   \n",
       "\n",
       "     currency  \n",
       "1         IRR  \n",
       "1341     None  \n",
       "1585     None  \n",
       "2426     None  \n",
       "2451     None  \n",
       "2630     None  "
      ]
     },
     "execution_count": 6,
     "metadata": {},
     "output_type": "execute_result"
    }
   ],
   "source": [
    "transactions[transactions['id'].isin(groups['source']['flow'][0])]"
   ]
  },
  {
   "cell_type": "code",
   "execution_count": 7,
   "metadata": {},
   "outputs": [
    {
     "data": {
      "text/html": [
       "<div>\n",
       "<style>\n",
       "    .dataframe thead tr:only-child th {\n",
       "        text-align: right;\n",
       "    }\n",
       "\n",
       "    .dataframe thead th {\n",
       "        text-align: left;\n",
       "    }\n",
       "\n",
       "    .dataframe tbody tr th {\n",
       "        vertical-align: top;\n",
       "    }\n",
       "</style>\n",
       "<table border=\"1\" class=\"dataframe\">\n",
       "  <thead>\n",
       "    <tr style=\"text-align: right;\">\n",
       "      <th></th>\n",
       "      <th>id</th>\n",
       "      <th>source</th>\n",
       "      <th>target</th>\n",
       "      <th>date</th>\n",
       "      <th>time</th>\n",
       "      <th>amount</th>\n",
       "      <th>currency</th>\n",
       "    </tr>\n",
       "  </thead>\n",
       "  <tbody>\n",
       "    <tr>\n",
       "      <th>0</th>\n",
       "      <td>0a6dfc9d-c66e-4546-a2d7-3e910e6478e3</td>\n",
       "      <td>a9c9e8db-c796-4d87-bdba-bbc9bf683d40</td>\n",
       "      <td>98fdf8fb-ec37-42ed-a890-d862ef93e7bb</td>\n",
       "      <td>05/24/2017</td>\n",
       "      <td>00:47:36</td>\n",
       "      <td>457.952172</td>\n",
       "      <td>ISK</td>\n",
       "    </tr>\n",
       "    <tr>\n",
       "      <th>110</th>\n",
       "      <td>6a63e069-35dd-42d4-ad7b-c032c4906f2c</td>\n",
       "      <td>999aeafd-bb36-47d5-9875-bb8271d002b2</td>\n",
       "      <td>98fdf8fb-ec37-42ed-a890-d862ef93e7bb</td>\n",
       "      <td>05/24/2017</td>\n",
       "      <td>00:47:24</td>\n",
       "      <td>457.952172</td>\n",
       "      <td>XUA</td>\n",
       "    </tr>\n",
       "    <tr>\n",
       "      <th>183</th>\n",
       "      <td>dbc7647e-a122-431b-a5f7-69cded41045e</td>\n",
       "      <td>feb37038-d91c-4747-bb01-b7defe0c8a67</td>\n",
       "      <td>98fdf8fb-ec37-42ed-a890-d862ef93e7bb</td>\n",
       "      <td>05/24/2017</td>\n",
       "      <td>00:47:48</td>\n",
       "      <td>457.952172</td>\n",
       "      <td>None</td>\n",
       "    </tr>\n",
       "    <tr>\n",
       "      <th>1075</th>\n",
       "      <td>1fa01a8c-8936-4819-ab1a-ec995cdb2ab7</td>\n",
       "      <td>ad964847-eecb-4e52-95fc-a3d05a6bc3f7</td>\n",
       "      <td>98fdf8fb-ec37-42ed-a890-d862ef93e7bb</td>\n",
       "      <td>05/24/2017</td>\n",
       "      <td>00:47:12</td>\n",
       "      <td>457.952172</td>\n",
       "      <td>None</td>\n",
       "    </tr>\n",
       "    <tr>\n",
       "      <th>2054</th>\n",
       "      <td>940d8c41-2e5c-48c4-9e49-dd86177b8b67</td>\n",
       "      <td>a3b9bdf1-da56-4564-92be-728cef460ccf</td>\n",
       "      <td>98fdf8fb-ec37-42ed-a890-d862ef93e7bb</td>\n",
       "      <td>05/24/2017</td>\n",
       "      <td>00:47:24</td>\n",
       "      <td>457.952172</td>\n",
       "      <td>BYR</td>\n",
       "    </tr>\n",
       "    <tr>\n",
       "      <th>2836</th>\n",
       "      <td>29f30884-8b21-436d-80f2-90f8c5be3063</td>\n",
       "      <td>743189b4-6ad1-4c66-97ac-4fb4072cc1d0</td>\n",
       "      <td>98fdf8fb-ec37-42ed-a890-d862ef93e7bb</td>\n",
       "      <td>05/24/2017</td>\n",
       "      <td>00:47:00</td>\n",
       "      <td>457.952172</td>\n",
       "      <td>None</td>\n",
       "    </tr>\n",
       "  </tbody>\n",
       "</table>\n",
       "</div>"
      ],
      "text/plain": [
       "                                        id  \\\n",
       "0     0a6dfc9d-c66e-4546-a2d7-3e910e6478e3   \n",
       "110   6a63e069-35dd-42d4-ad7b-c032c4906f2c   \n",
       "183   dbc7647e-a122-431b-a5f7-69cded41045e   \n",
       "1075  1fa01a8c-8936-4819-ab1a-ec995cdb2ab7   \n",
       "2054  940d8c41-2e5c-48c4-9e49-dd86177b8b67   \n",
       "2836  29f30884-8b21-436d-80f2-90f8c5be3063   \n",
       "\n",
       "                                    source  \\\n",
       "0     a9c9e8db-c796-4d87-bdba-bbc9bf683d40   \n",
       "110   999aeafd-bb36-47d5-9875-bb8271d002b2   \n",
       "183   feb37038-d91c-4747-bb01-b7defe0c8a67   \n",
       "1075  ad964847-eecb-4e52-95fc-a3d05a6bc3f7   \n",
       "2054  a3b9bdf1-da56-4564-92be-728cef460ccf   \n",
       "2836  743189b4-6ad1-4c66-97ac-4fb4072cc1d0   \n",
       "\n",
       "                                    target        date      time      amount  \\\n",
       "0     98fdf8fb-ec37-42ed-a890-d862ef93e7bb  05/24/2017  00:47:36  457.952172   \n",
       "110   98fdf8fb-ec37-42ed-a890-d862ef93e7bb  05/24/2017  00:47:24  457.952172   \n",
       "183   98fdf8fb-ec37-42ed-a890-d862ef93e7bb  05/24/2017  00:47:48  457.952172   \n",
       "1075  98fdf8fb-ec37-42ed-a890-d862ef93e7bb  05/24/2017  00:47:12  457.952172   \n",
       "2054  98fdf8fb-ec37-42ed-a890-d862ef93e7bb  05/24/2017  00:47:24  457.952172   \n",
       "2836  98fdf8fb-ec37-42ed-a890-d862ef93e7bb  05/24/2017  00:47:00  457.952172   \n",
       "\n",
       "     currency  \n",
       "0         ISK  \n",
       "110       XUA  \n",
       "183      None  \n",
       "1075     None  \n",
       "2054      BYR  \n",
       "2836     None  "
      ]
     },
     "execution_count": 7,
     "metadata": {},
     "output_type": "execute_result"
    }
   ],
   "source": [
    "transactions[transactions['id'].isin(groups['target']['flow'][0])]"
   ]
  },
  {
   "cell_type": "code",
   "execution_count": 5,
   "metadata": {
    "collapsed": true
   },
   "outputs": [],
   "source": [
    "# group 0 = suspect\n",
    "# group 1 = accomplice\n",
    "# group 2 = accomplice edge\n",
    "# group 3 = normal\n",
    "# group 4 = normal edge"
   ]
  },
  {
   "cell_type": "code",
   "execution_count": 7,
   "metadata": {
    "collapsed": true
   },
   "outputs": [],
   "source": [
    "for id_ in range(3):\n",
    "    data = {'nodes': [], 'links': [], 'type': None}\n",
    "    \n",
    "    susp_node = transactions[transactions['id'].isin(groups['source']['time'][id_])]['source'].iloc[0]\n",
    "    data['nodes'].append({'id': susp_node, 'tag': 'suspect', 'type': 'suspect'})\n",
    "    \n",
    "    susp_index = list(transactions[transactions['id'].isin(groups['source']['time'][id_])].index)\n",
    "\n",
    "    # get the out nodes\n",
    "    out = transactions[transactions['source'] == susp_node]\n",
    "\n",
    "    out_nodes = []\n",
    "\n",
    "    for i in out.index:\n",
    "        row = out.loc[i]\n",
    "        acc = True if i in susp_index else False\n",
    "        if acc:\n",
    "            tag = 'accomplice'\n",
    "        else:\n",
    "            tag = 'usual'\n",
    "\n",
    "        if row['target'] not in out_nodes:\n",
    "            data['nodes'].append({'id': row['target'], 'tag': tag, 'type': 'target'})\n",
    "            out_nodes.append(row['target'])\n",
    "\n",
    "        data['links'].append({'source': susp_node, 'target': row['target'], 'tag': tag, 'date': row['date'], 'time': row['time'], 'amount': row['amount'], 'currency': row['currency']})\n",
    "        \n",
    "    in_ = transactions[transactions['target'] == susp_node]\n",
    "\n",
    "    in_nodes = []\n",
    "    if susp_node in target_ids:\n",
    "        susp_in = True\n",
    "\n",
    "        data['type'] = 'Time Pattern Outflow + Inflow'\n",
    "\n",
    "        idx = target_ids.index(susp_node)\n",
    "\n",
    "        susp_index_in = list(transactions[transactions['id'].isin(groups['target']['time'][idx])].index)\n",
    "    else:\n",
    "        data['type'] = 'Time Pattern Outflow'\n",
    "        susp_in = False\n",
    "\n",
    "    for i in in_.index:\n",
    "        row = in_.loc[i]\n",
    "\n",
    "        if susp_in:\n",
    "            acc = True if i in susp_index_in else False\n",
    "            if acc:\n",
    "                tag = 'accomplice'\n",
    "            else:\n",
    "                tag = 'usual'\n",
    "        else:\n",
    "            tag = 'usual'\n",
    "\n",
    "        if row['source'] not in in_nodes:\n",
    "            data['nodes'].append({'id': row['source'], 'tag': tag, 'type': 'source'})  \n",
    "            in_nodes.append(row['source'])\n",
    "\n",
    "        data['links'].append({'source': row['source'], 'target': susp_node, 'tag': tag, 'date': row['date'], 'time': row['time'], 'amount': row['amount'], 'currency': row['currency']})\n",
    "        \n",
    "    # Save the file\n",
    "    fn = str(susp_node) + '.json'\n",
    "\n",
    "    with open('json/'+fn, 'w') as outfile:\n",
    "        json.dump(data, outfile)"
   ]
  },
  {
   "cell_type": "code",
   "execution_count": 35,
   "metadata": {
    "collapsed": true
   },
   "outputs": [],
   "source": [
    "list_ = []\n",
    "\n",
    "for id_ in range(3):\n",
    "    data = {'nodes': [], 'links': [], 'type': None}\n",
    "    \n",
    "    susp_node = transactions[transactions['id'].isin(groups['source']['time'][id_])]['source'].iloc[0]\n",
    "    \n",
    "    score = np.random.random()\n",
    "    \n",
    "    list_.append({'id': susp_node, 'score': score})\n",
    "    \n",
    "list_ = sorted(list_, key=lambda k: k['score'], reverse=True)\n",
    "\n",
    "with open('json/ranked_list.json', 'w') as outfile:\n",
    "    json.dump(list_, outfile)  "
   ]
  },
  {
   "cell_type": "code",
   "execution_count": 36,
   "metadata": {},
   "outputs": [
    {
     "data": {
      "text/plain": [
       "[{'id': 'd6af4bd8-f5e2-4419-b0dc-4ec1e31d611a', 'score': 0.6116555067543284},\n",
       " {'id': '7da7fe88-98be-4553-b006-6df8bbdb6945', 'score': 0.5559632804814437},\n",
       " {'id': 'c019c971-bdf3-4fe9-9f71-5d5871d8794c', 'score': 0.42804024485180914}]"
      ]
     },
     "execution_count": 36,
     "metadata": {},
     "output_type": "execute_result"
    }
   ],
   "source": [
    "list_"
   ]
  },
  {
   "cell_type": "code",
   "execution_count": null,
   "metadata": {
    "collapsed": true
   },
   "outputs": [],
   "source": []
  }
 ],
 "metadata": {
  "kernelspec": {
   "display_name": "Python 3",
   "language": "python",
   "name": "python3"
  },
  "language_info": {
   "codemirror_mode": {
    "name": "ipython",
    "version": 3
   },
   "file_extension": ".py",
   "mimetype": "text/x-python",
   "name": "python",
   "nbconvert_exporter": "python",
   "pygments_lexer": "ipython3",
   "version": "3.6.1"
  }
 },
 "nbformat": 4,
 "nbformat_minor": 2
}
