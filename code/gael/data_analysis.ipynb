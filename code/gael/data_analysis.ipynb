{
 "cells": [
  {
   "cell_type": "code",
   "execution_count": 1,
   "metadata": {
    "collapsed": true
   },
   "outputs": [],
   "source": [
    "import os\n",
    "os.chdir('../..')"
   ]
  },
  {
   "cell_type": "code",
   "execution_count": 193,
   "metadata": {},
   "outputs": [],
   "source": [
    "import pandas as pd\n",
    "import numpy as np\n",
    "\n",
    "from datetime import datetime, date\n",
    "import matplotlib.pyplot as plt\n",
    "\n",
    "import json\n",
    "\n",
    "data = 'data/'"
   ]
  },
  {
   "cell_type": "code",
   "execution_count": 4,
   "metadata": {
    "collapsed": true
   },
   "outputs": [],
   "source": [
    "atms = pd.read_csv(data + 'atms.small.csv')\n",
    "clients = pd.read_csv(data + 'clients.small.csv')\n",
    "companies = pd.read_csv(data + 'companies.small.csv')\n",
    "transactions = pd.read_csv(data + 'transactions.small.csv')"
   ]
  },
  {
   "cell_type": "code",
   "execution_count": 66,
   "metadata": {},
   "outputs": [],
   "source": [
    "months = {}\n",
    "days = {}\n",
    "counts = 0\n",
    "dates = []\n",
    "for i in transactions.index:\n",
    "    date = transactions.loc[i]['date']\n",
    "    month = int(date.split('/')[1])\n",
    "    day = int(date.split('/')[0])\n",
    "    \n",
    "    if month not in months.keys():\n",
    "        months[month] = 0\n",
    "    \n",
    "    months[month] += 1\n",
    "    if day not in days.keys():\n",
    "        days[day] = 0\n",
    "    \n",
    "    days[day] += 1\n",
    "    \n",
    "    if day <= 12:\n",
    "        counts += 1\n",
    "    else:\n",
    "        dates.append(date)"
   ]
  },
  {
   "cell_type": "code",
   "execution_count": 65,
   "metadata": {},
   "outputs": [
    {
     "data": {
      "text/plain": [
       "0.8444396365209866"
      ]
     },
     "execution_count": 65,
     "metadata": {},
     "output_type": "execute_result"
    }
   ],
   "source": [
    "counts/len(transactions)"
   ]
  },
  {
   "cell_type": "code",
   "execution_count": 54,
   "metadata": {
    "collapsed": true
   },
   "outputs": [
    {
     "data": {
      "text/plain": [
       "{1: 618,\n",
       " 2: 622,\n",
       " 3: 663,\n",
       " 4: 527,\n",
       " 5: 518,\n",
       " 6: 661,\n",
       " 7: 564,\n",
       " 8: 570,\n",
       " 9: 627,\n",
       " 10: 450,\n",
       " 11: 505,\n",
       " 12: 507,\n",
       " 13: 759,\n",
       " 14: 552,\n",
       " 15: 575,\n",
       " 16: 612,\n",
       " 17: 843,\n",
       " 18: 675,\n",
       " 19: 579,\n",
       " 20: 922,\n",
       " 21: 612,\n",
       " 22: 709,\n",
       " 23: 752,\n",
       " 24: 556,\n",
       " 25: 503,\n",
       " 26: 474,\n",
       " 27: 646,\n",
       " 28: 515,\n",
       " 29: 558,\n",
       " 30: 579,\n",
       " 31: 235}"
      ]
     },
     "execution_count": 54,
     "metadata": {},
     "output_type": "execute_result"
    }
   ],
   "source": [
    "months"
   ]
  },
  {
   "cell_type": "code",
   "execution_count": 57,
   "metadata": {
    "collapsed": true
   },
   "outputs": [
    {
     "data": {
      "text/plain": [
       "{1: 1246,\n",
       " 2: 1301,\n",
       " 3: 1188,\n",
       " 4: 1265,\n",
       " 5: 1283,\n",
       " 6: 1368,\n",
       " 7: 1241,\n",
       " 8: 1317,\n",
       " 9: 1307,\n",
       " 10: 1270,\n",
       " 11: 1284,\n",
       " 12: 1542,\n",
       " 13: 49,\n",
       " 14: 52,\n",
       " 15: 43,\n",
       " 16: 49,\n",
       " 17: 46,\n",
       " 18: 40,\n",
       " 19: 45,\n",
       " 20: 45,\n",
       " 21: 37,\n",
       " 22: 44,\n",
       " 23: 41,\n",
       " 24: 233,\n",
       " 25: 524,\n",
       " 26: 573,\n",
       " 27: 1055}"
      ]
     },
     "execution_count": 57,
     "metadata": {},
     "output_type": "execute_result"
    }
   ],
   "source": [
    "days"
   ]
  },
  {
   "cell_type": "markdown",
   "metadata": {},
   "source": [
    "## Extract time patterns"
   ]
  },
  {
   "cell_type": "code",
   "execution_count": 117,
   "metadata": {
    "collapsed": true
   },
   "outputs": [],
   "source": [
    "threshold_minutes = 10\n",
    "threshold_amount = 0.1"
   ]
  },
  {
   "cell_type": "code",
   "execution_count": 182,
   "metadata": {},
   "outputs": [
    {
     "name": "stdout",
     "output_type": "stream",
     "text": [
      "Check for source\n",
      "Check for target\n"
     ]
    }
   ],
   "source": [
    "groups = {'source': {'time': [], 'flow': []},\n",
    "          'target': {'time': [], 'flow': []}}\n",
    "\n",
    "ids = {'source': transactions['source'].unique(), 'target': transactions['target'].unique()}\n",
    "\n",
    "for key in ids.keys():\n",
    "    print('Check for {}'.format(key))\n",
    "    for id_ in ids[key]:\n",
    "        df = transactions[transactions[key] == id_]\n",
    "        df.index = range(len(df))\n",
    "\n",
    "        times = np.zeros((len(df), len(df)), dtype=np.bool)\n",
    "        amounts = np.zeros((len(df), len(df)), dtype=np.bool)\n",
    "\n",
    "\n",
    "        for j in range(len(df)):\n",
    "            for k in range(j, len(df)):\n",
    "                # Time diff\n",
    "                tj = datetime.strptime(df.loc[j]['time'], '%H:%M:%S').time()\n",
    "                tk = datetime.strptime(df.loc[k]['time'], '%H:%M:%S').time()\n",
    "\n",
    "                diff = np.abs(((datetime.combine(date.today(), tj) - datetime.combine(date.today(), tk)).total_seconds()))\n",
    "\n",
    "                if diff < threshold_minutes*60:\n",
    "                    times[j][k] = True\n",
    "                    times[k][j] = True\n",
    "                else:\n",
    "                    times[j][k] = False\n",
    "                    times[k][j] = False\n",
    "\n",
    "                # Amount diff\n",
    "\n",
    "                amj = df.loc[j]['amount']\n",
    "                amk = df.loc[k]['amount']\n",
    "\n",
    "                diff = np.abs(amj-amk)\n",
    "                avg = np.mean([amj, amk])\n",
    "\n",
    "                if diff < threshold_amount*avg:\n",
    "                    amounts[j][k] = True\n",
    "                    amounts[k][j] = True\n",
    "                else:\n",
    "                    amounts[j][k] = False\n",
    "                    amounts[k][j] = False\n",
    "\n",
    "        mat = amounts*times\n",
    "\n",
    "        j=0\n",
    "        while j <= len(df)-1:\n",
    "            arr = [i for i, x in enumerate(mat[j, :]) if x]\n",
    "            j = arr[-1]+1\n",
    "            if len(arr) > 1:\n",
    "                linked = [df.loc[k]['id'] for k in arr]\n",
    "                if len(df[df['id'].isin(linked)]['date'].unique()) == 1:\n",
    "                    groups[key]['flow'].append(linked)\n",
    "                else:\n",
    "                    groups[key]['time'].append(linked) "
   ]
  },
  {
   "cell_type": "code",
   "execution_count": 186,
   "metadata": {},
   "outputs": [
    {
     "name": "stdout",
     "output_type": "stream",
     "text": [
      "source:\n",
      "  time: 172\n",
      "  flow: 287\n",
      "target:\n",
      "  time: 189\n",
      "  flow: 284\n"
     ]
    }
   ],
   "source": [
    "for key in groups.keys():\n",
    "    print('{}:'.format(key))\n",
    "    for type_ in groups[key].keys():\n",
    "        print('  {}: {}'.format(type_, len(groups[key][type_])))"
   ]
  },
  {
   "cell_type": "code",
   "execution_count": 191,
   "metadata": {},
   "outputs": [
    {
     "data": {
      "text/plain": [
       "473"
      ]
     },
     "execution_count": 191,
     "metadata": {},
     "output_type": "execute_result"
    }
   ],
   "source": [
    "189+284"
   ]
  },
  {
   "cell_type": "code",
   "execution_count": 192,
   "metadata": {},
   "outputs": [
    {
     "data": {
      "text/html": [
       "<div>\n",
       "<style>\n",
       "    .dataframe thead tr:only-child th {\n",
       "        text-align: right;\n",
       "    }\n",
       "\n",
       "    .dataframe thead th {\n",
       "        text-align: left;\n",
       "    }\n",
       "\n",
       "    .dataframe tbody tr th {\n",
       "        vertical-align: top;\n",
       "    }\n",
       "</style>\n",
       "<table border=\"1\" class=\"dataframe\">\n",
       "  <thead>\n",
       "    <tr style=\"text-align: right;\">\n",
       "      <th></th>\n",
       "      <th>id</th>\n",
       "      <th>source</th>\n",
       "      <th>target</th>\n",
       "      <th>date</th>\n",
       "      <th>time</th>\n",
       "      <th>amount</th>\n",
       "      <th>currency</th>\n",
       "    </tr>\n",
       "  </thead>\n",
       "  <tbody>\n",
       "    <tr>\n",
       "      <th>0</th>\n",
       "      <td>7d5d4762-24fe-4cf0-8185-40eff4d299a0</td>\n",
       "      <td>ee288787-e310-4bb8-b2a1-f0f6a1ad8f06</td>\n",
       "      <td>4abed95d-5618-42e8-a5a0-06e4d69f81ca</td>\n",
       "      <td>24/09/2015</td>\n",
       "      <td>15:57:52</td>\n",
       "      <td>1683.730271</td>\n",
       "      <td>None</td>\n",
       "    </tr>\n",
       "    <tr>\n",
       "      <th>91</th>\n",
       "      <td>d3dd0c1f-8c3a-4f7c-b042-c30dee422866</td>\n",
       "      <td>b38c9ead-22da-4455-8f71-97a334b911a1</td>\n",
       "      <td>4abed95d-5618-42e8-a5a0-06e4d69f81ca</td>\n",
       "      <td>24/09/2015</td>\n",
       "      <td>15:57:52</td>\n",
       "      <td>1683.730271</td>\n",
       "      <td>None</td>\n",
       "    </tr>\n",
       "    <tr>\n",
       "      <th>144</th>\n",
       "      <td>8d0c3f7f-4286-4122-a911-479d45b5570b</td>\n",
       "      <td>77262493-a17e-43e5-bab3-92daa34e2807</td>\n",
       "      <td>4abed95d-5618-42e8-a5a0-06e4d69f81ca</td>\n",
       "      <td>24/09/2015</td>\n",
       "      <td>15:57:52</td>\n",
       "      <td>1683.730271</td>\n",
       "      <td>None</td>\n",
       "    </tr>\n",
       "    <tr>\n",
       "      <th>520</th>\n",
       "      <td>bd3920fe-f523-421e-ad43-6e7e2fd6cb3e</td>\n",
       "      <td>d845295f-70ef-4cca-b370-3b3adf817867</td>\n",
       "      <td>4abed95d-5618-42e8-a5a0-06e4d69f81ca</td>\n",
       "      <td>24/09/2015</td>\n",
       "      <td>15:57:52</td>\n",
       "      <td>1683.730271</td>\n",
       "      <td>None</td>\n",
       "    </tr>\n",
       "    <tr>\n",
       "      <th>840</th>\n",
       "      <td>1d094f90-ea10-47cf-b520-1ea2b57e064e</td>\n",
       "      <td>29e199c2-2983-498e-bbbf-0695ec0466da</td>\n",
       "      <td>4abed95d-5618-42e8-a5a0-06e4d69f81ca</td>\n",
       "      <td>24/09/2015</td>\n",
       "      <td>15:57:52</td>\n",
       "      <td>1683.730271</td>\n",
       "      <td>LKR</td>\n",
       "    </tr>\n",
       "    <tr>\n",
       "      <th>898</th>\n",
       "      <td>770d4f96-959a-45d5-a1bd-2a02a1e3db82</td>\n",
       "      <td>ae844c99-ccdc-4de7-a7a9-8fd09f4edbeb</td>\n",
       "      <td>4abed95d-5618-42e8-a5a0-06e4d69f81ca</td>\n",
       "      <td>24/09/2015</td>\n",
       "      <td>15:57:52</td>\n",
       "      <td>1683.730271</td>\n",
       "      <td>None</td>\n",
       "    </tr>\n",
       "    <tr>\n",
       "      <th>1573</th>\n",
       "      <td>0587299a-c7bd-4a63-96ed-61ab71d9545d</td>\n",
       "      <td>963b1817-e2fb-45b7-a40f-67fc84c9b040</td>\n",
       "      <td>4abed95d-5618-42e8-a5a0-06e4d69f81ca</td>\n",
       "      <td>24/09/2015</td>\n",
       "      <td>15:57:52</td>\n",
       "      <td>1683.730271</td>\n",
       "      <td>None</td>\n",
       "    </tr>\n",
       "    <tr>\n",
       "      <th>1863</th>\n",
       "      <td>7f5c8d79-1e54-411f-8cd1-86f62f3e830b</td>\n",
       "      <td>e4ad5cec-82c0-4e5e-85a2-f2a2e7bfcf52</td>\n",
       "      <td>4abed95d-5618-42e8-a5a0-06e4d69f81ca</td>\n",
       "      <td>24/09/2015</td>\n",
       "      <td>15:57:52</td>\n",
       "      <td>1683.730271</td>\n",
       "      <td>IQD</td>\n",
       "    </tr>\n",
       "  </tbody>\n",
       "</table>\n",
       "</div>"
      ],
      "text/plain": [
       "                                        id  \\\n",
       "0     7d5d4762-24fe-4cf0-8185-40eff4d299a0   \n",
       "91    d3dd0c1f-8c3a-4f7c-b042-c30dee422866   \n",
       "144   8d0c3f7f-4286-4122-a911-479d45b5570b   \n",
       "520   bd3920fe-f523-421e-ad43-6e7e2fd6cb3e   \n",
       "840   1d094f90-ea10-47cf-b520-1ea2b57e064e   \n",
       "898   770d4f96-959a-45d5-a1bd-2a02a1e3db82   \n",
       "1573  0587299a-c7bd-4a63-96ed-61ab71d9545d   \n",
       "1863  7f5c8d79-1e54-411f-8cd1-86f62f3e830b   \n",
       "\n",
       "                                    source  \\\n",
       "0     ee288787-e310-4bb8-b2a1-f0f6a1ad8f06   \n",
       "91    b38c9ead-22da-4455-8f71-97a334b911a1   \n",
       "144   77262493-a17e-43e5-bab3-92daa34e2807   \n",
       "520   d845295f-70ef-4cca-b370-3b3adf817867   \n",
       "840   29e199c2-2983-498e-bbbf-0695ec0466da   \n",
       "898   ae844c99-ccdc-4de7-a7a9-8fd09f4edbeb   \n",
       "1573  963b1817-e2fb-45b7-a40f-67fc84c9b040   \n",
       "1863  e4ad5cec-82c0-4e5e-85a2-f2a2e7bfcf52   \n",
       "\n",
       "                                    target        date      time       amount  \\\n",
       "0     4abed95d-5618-42e8-a5a0-06e4d69f81ca  24/09/2015  15:57:52  1683.730271   \n",
       "91    4abed95d-5618-42e8-a5a0-06e4d69f81ca  24/09/2015  15:57:52  1683.730271   \n",
       "144   4abed95d-5618-42e8-a5a0-06e4d69f81ca  24/09/2015  15:57:52  1683.730271   \n",
       "520   4abed95d-5618-42e8-a5a0-06e4d69f81ca  24/09/2015  15:57:52  1683.730271   \n",
       "840   4abed95d-5618-42e8-a5a0-06e4d69f81ca  24/09/2015  15:57:52  1683.730271   \n",
       "898   4abed95d-5618-42e8-a5a0-06e4d69f81ca  24/09/2015  15:57:52  1683.730271   \n",
       "1573  4abed95d-5618-42e8-a5a0-06e4d69f81ca  24/09/2015  15:57:52  1683.730271   \n",
       "1863  4abed95d-5618-42e8-a5a0-06e4d69f81ca  24/09/2015  15:57:52  1683.730271   \n",
       "\n",
       "     currency  \n",
       "0        None  \n",
       "91       None  \n",
       "144      None  \n",
       "520      None  \n",
       "840       LKR  \n",
       "898      None  \n",
       "1573     None  \n",
       "1863      IQD  "
      ]
     },
     "execution_count": 192,
     "metadata": {},
     "output_type": "execute_result"
    }
   ],
   "source": [
    "transactions[transactions['id'].isin(groups['target']['flow'][0])]"
   ]
  },
  {
   "cell_type": "code",
   "execution_count": null,
   "metadata": {
    "collapsed": true
   },
   "outputs": [],
   "source": [
    "with open(data + 'groups.json', 'w')"
   ]
  }
 ],
 "metadata": {
  "kernelspec": {
   "display_name": "Python 3",
   "language": "python",
   "name": "python3"
  },
  "language_info": {
   "codemirror_mode": {
    "name": "ipython",
    "version": 3
   },
   "file_extension": ".py",
   "mimetype": "text/x-python",
   "name": "python",
   "nbconvert_exporter": "python",
   "pygments_lexer": "ipython3",
   "version": "3.6.1"
  }
 },
 "nbformat": 4,
 "nbformat_minor": 2
}
